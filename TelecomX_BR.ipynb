{
  "cells": [
    {
      "cell_type": "markdown",
      "metadata": {
        "id": "view-in-github",
        "colab_type": "text"
      },
      "source": [
        "<a href=\"https://colab.research.google.com/github/tcandreetti/challenge2-data-science/blob/main/TelecomX_BR.ipynb\" target=\"_parent\"><img src=\"https://colab.research.google.com/assets/colab-badge.svg\" alt=\"Open In Colab\"/></a>"
      ]
    },
    {
      "cell_type": "markdown",
      "source": [
        "# Imports"
      ],
      "metadata": {
        "id": "2Mz2oWFyQMIm"
      }
    },
    {
      "cell_type": "code",
      "source": [
        "import requests\n",
        "import pandas as pd"
      ],
      "metadata": {
        "id": "1ZVotKWgQLVD"
      },
      "execution_count": 2,
      "outputs": []
    },
    {
      "cell_type": "markdown",
      "metadata": {
        "id": "4foVEKhrlqcH"
      },
      "source": [
        "#📌 Extracão"
      ]
    },
    {
      "cell_type": "markdown",
      "source": [
        "Importar os dados da API da Telecom X. Esses dados estão disponíveis no formato JSON e contêm informações essenciais sobre os clientes, incluindo dados demográficos, tipo de serviço contratado e status de evasão."
      ],
      "metadata": {
        "id": "lFUujJW7P5je"
      }
    },
    {
      "cell_type": "code",
      "source": [
        "url = \"https://raw.githubusercontent.com/tcandreetti/challenge2-data-science/main/TelecomX_Data.json\""
      ],
      "metadata": {
        "id": "e_EWQMiBQU3V"
      },
      "execution_count": 33,
      "outputs": []
    },
    {
      "cell_type": "code",
      "source": [
        "data = pd.read_json(url)\n",
        "df = pd.DataFrame(data)\n",
        "#df = df.set_index('customerID')"
      ],
      "metadata": {
        "id": "jBWxvgwaRpMu"
      },
      "execution_count": 34,
      "outputs": []
    },
    {
      "cell_type": "code",
      "source": [
        "print(df.head())"
      ],
      "metadata": {
        "colab": {
          "base_uri": "https://localhost:8080/"
        },
        "id": "YrBfoJTbT6ys",
        "outputId": "8b3c3e2c-750c-481d-a33e-fa41848840e8"
      },
      "execution_count": 35,
      "outputs": [
        {
          "output_type": "stream",
          "name": "stdout",
          "text": [
            "   customerID Churn                                           customer  \\\n",
            "0  0002-ORFBO    No  {'gender': 'Female', 'SeniorCitizen': 0, 'Part...   \n",
            "1  0003-MKNFE    No  {'gender': 'Male', 'SeniorCitizen': 0, 'Partne...   \n",
            "2  0004-TLHLJ   Yes  {'gender': 'Male', 'SeniorCitizen': 0, 'Partne...   \n",
            "3  0011-IGKFF   Yes  {'gender': 'Male', 'SeniorCitizen': 1, 'Partne...   \n",
            "4  0013-EXCHZ   Yes  {'gender': 'Female', 'SeniorCitizen': 1, 'Part...   \n",
            "\n",
            "                                             phone  \\\n",
            "0   {'PhoneService': 'Yes', 'MultipleLines': 'No'}   \n",
            "1  {'PhoneService': 'Yes', 'MultipleLines': 'Yes'}   \n",
            "2   {'PhoneService': 'Yes', 'MultipleLines': 'No'}   \n",
            "3   {'PhoneService': 'Yes', 'MultipleLines': 'No'}   \n",
            "4   {'PhoneService': 'Yes', 'MultipleLines': 'No'}   \n",
            "\n",
            "                                            internet  \\\n",
            "0  {'InternetService': 'DSL', 'OnlineSecurity': '...   \n",
            "1  {'InternetService': 'DSL', 'OnlineSecurity': '...   \n",
            "2  {'InternetService': 'Fiber optic', 'OnlineSecu...   \n",
            "3  {'InternetService': 'Fiber optic', 'OnlineSecu...   \n",
            "4  {'InternetService': 'Fiber optic', 'OnlineSecu...   \n",
            "\n",
            "                                             account  \n",
            "0  {'Contract': 'One year', 'PaperlessBilling': '...  \n",
            "1  {'Contract': 'Month-to-month', 'PaperlessBilli...  \n",
            "2  {'Contract': 'Month-to-month', 'PaperlessBilli...  \n",
            "3  {'Contract': 'Month-to-month', 'PaperlessBilli...  \n",
            "4  {'Contract': 'Month-to-month', 'PaperlessBilli...  \n"
          ]
        }
      ]
    },
    {
      "cell_type": "code",
      "source": [
        "#normalizar os dicionarios dentro de df para que cada elemento seja uma coluna\n",
        "\n",
        "df = pd.json_normalize(df.to_dict(orient='records'))\n",
        "print(df.head())"
      ],
      "metadata": {
        "colab": {
          "base_uri": "https://localhost:8080/"
        },
        "id": "EClwKc6yUL6l",
        "outputId": "a7cb4824-8675-4857-807f-6d8f9e4d454d"
      },
      "execution_count": 36,
      "outputs": [
        {
          "output_type": "stream",
          "name": "stdout",
          "text": [
            "   customerID Churn customer.gender  customer.SeniorCitizen customer.Partner  \\\n",
            "0  0002-ORFBO    No          Female                       0              Yes   \n",
            "1  0003-MKNFE    No            Male                       0               No   \n",
            "2  0004-TLHLJ   Yes            Male                       0               No   \n",
            "3  0011-IGKFF   Yes            Male                       1              Yes   \n",
            "4  0013-EXCHZ   Yes          Female                       1              Yes   \n",
            "\n",
            "  customer.Dependents  customer.tenure phone.PhoneService phone.MultipleLines  \\\n",
            "0                 Yes                9                Yes                  No   \n",
            "1                  No                9                Yes                 Yes   \n",
            "2                  No                4                Yes                  No   \n",
            "3                  No               13                Yes                  No   \n",
            "4                  No                3                Yes                  No   \n",
            "\n",
            "  internet.InternetService  ... internet.OnlineBackup  \\\n",
            "0                      DSL  ...                   Yes   \n",
            "1                      DSL  ...                    No   \n",
            "2              Fiber optic  ...                    No   \n",
            "3              Fiber optic  ...                   Yes   \n",
            "4              Fiber optic  ...                    No   \n",
            "\n",
            "  internet.DeviceProtection internet.TechSupport internet.StreamingTV  \\\n",
            "0                        No                  Yes                  Yes   \n",
            "1                        No                   No                   No   \n",
            "2                       Yes                   No                   No   \n",
            "3                       Yes                   No                  Yes   \n",
            "4                        No                  Yes                  Yes   \n",
            "\n",
            "  internet.StreamingMovies account.Contract account.PaperlessBilling  \\\n",
            "0                       No         One year                      Yes   \n",
            "1                      Yes   Month-to-month                       No   \n",
            "2                       No   Month-to-month                      Yes   \n",
            "3                      Yes   Month-to-month                      Yes   \n",
            "4                       No   Month-to-month                      Yes   \n",
            "\n",
            "  account.PaymentMethod account.Charges.Monthly  account.Charges.Total  \n",
            "0          Mailed check                    65.6                  593.3  \n",
            "1          Mailed check                    59.9                  542.4  \n",
            "2      Electronic check                    73.9                 280.85  \n",
            "3      Electronic check                    98.0                1237.85  \n",
            "4          Mailed check                    83.9                  267.4  \n",
            "\n",
            "[5 rows x 21 columns]\n"
          ]
        }
      ]
    },
    {
      "cell_type": "markdown",
      "metadata": {
        "id": "1lSZP8zmmGZu"
      },
      "source": [
        "#🔧 Transformação"
      ]
    },
    {
      "cell_type": "markdown",
      "source": [
        "✅ Explorar as colunas do dataset e verificar seus tipos de dados.\n",
        "\n",
        "✅ Consultar o dicionário para entender melhor os significados das variáveis.\n",
        "\n",
        "✅ Identificar as colunas mais relevantes para a análise de evasão."
      ],
      "metadata": {
        "id": "E5EVxv8lQzhU"
      }
    },
    {
      "cell_type": "code",
      "execution_count": 45,
      "metadata": {
        "id": "bsm-WTLjmHvt",
        "colab": {
          "base_uri": "https://localhost:8080/"
        },
        "outputId": "e4232346-0ab5-46f7-8ed3-76a4097b135a"
      },
      "outputs": [
        {
          "output_type": "stream",
          "name": "stdout",
          "text": [
            "<class 'pandas.core.frame.DataFrame'>\n",
            "RangeIndex: 7267 entries, 0 to 7266\n",
            "Data columns (total 21 columns):\n",
            " #   Column                     Non-Null Count  Dtype  \n",
            "---  ------                     --------------  -----  \n",
            " 0   customerID                 7267 non-null   object \n",
            " 1   Churn                      7267 non-null   int64  \n",
            " 2   customer.gender            7267 non-null   object \n",
            " 3   customer.SeniorCitizen     7267 non-null   int64  \n",
            " 4   customer.Partner           7267 non-null   int64  \n",
            " 5   customer.Dependents        7267 non-null   int64  \n",
            " 6   customer.tenure            7267 non-null   int64  \n",
            " 7   phone.PhoneService         7267 non-null   int64  \n",
            " 8   phone.MultipleLines        7267 non-null   int64  \n",
            " 9   internet.InternetService   7267 non-null   object \n",
            " 10  internet.OnlineSecurity    7267 non-null   int64  \n",
            " 11  internet.OnlineBackup      7267 non-null   int64  \n",
            " 12  internet.DeviceProtection  7267 non-null   int64  \n",
            " 13  internet.TechSupport       7267 non-null   int64  \n",
            " 14  internet.StreamingTV       7267 non-null   int64  \n",
            " 15  internet.StreamingMovies   7267 non-null   int64  \n",
            " 16  account.Contract           7267 non-null   object \n",
            " 17  account.PaperlessBilling   7267 non-null   int64  \n",
            " 18  account.PaymentMethod      7267 non-null   object \n",
            " 19  account.Charges.Monthly    7267 non-null   float64\n",
            " 20  account.Charges.Total      7267 non-null   object \n",
            "dtypes: float64(1), int64(14), object(6)\n",
            "memory usage: 1.2+ MB\n"
          ]
        }
      ],
      "source": [
        "df.info()"
      ]
    },
    {
      "cell_type": "code",
      "source": [
        "df['Churn'] = df['Churn'].apply(lambda x: 1 if x == 'Yes' else 0)\n",
        "df['customer.Dependents'] = df['customer.Dependents'].apply(lambda x: 1 if x == 'Yes' else 0)\n",
        "df['customer.Partner'] = df['customer.Partner'].apply(lambda x: 1 if x == 'Yes' else 0)\n",
        "df['phone.PhoneService'] = df['phone.PhoneService'].apply(lambda x: 1 if x == 'Yes' else 0)\n",
        "df['internet.OnlineSecurity'] = df['internet.OnlineSecurity'].apply(lambda x: 1 if x == 'Yes' else 0)\n",
        "df['internet.OnlineBackup'] = df['internet.OnlineBackup'].apply(lambda x: 1 if x == 'Yes' else 0)\n",
        "df['internet.DeviceProtection'] = df['internet.DeviceProtection'].apply(lambda x: 1 if x == 'Yes' else 0)\n",
        "df['internet.TechSupport'] = df['internet.TechSupport'].apply(lambda x: 1 if x == 'Yes' else 0)\n",
        "df['internet.StreamingTV'] = df['internet.StreamingTV'].apply(lambda x: 1 if x == 'Yes' else 0)\n",
        "df['internet.StreamingMovies'] = df['internet.StreamingMovies'].apply(lambda x: 1 if x == 'Yes' else 0)\n",
        "df['account.PaperlessBilling'] = df['account.PaperlessBilling'].apply(lambda x: 1 if x == 'Yes' else 0)\n",
        "df['phone.MultipleLines'] = df['phone.MultipleLines'].apply(lambda x: 1 if x == 'Yes' else 0)\n",
        "df['account.Charges.Monthly'] = df['account.Charges.Monthly'].astype(float)\n",
        "\n",
        "df['account.Charges.Total'] = pd.to_numeric(df['account.Charges.Total'], errors='coerce')\n",
        "\n",
        "df['account.Charges.Total'] = df['account.Charges.Total'].astype(float)"
      ],
      "metadata": {
        "id": "hcfqL4NuVmDr"
      },
      "execution_count": 49,
      "outputs": []
    },
    {
      "cell_type": "markdown",
      "metadata": {
        "id": "6XnTC2NTmMRL"
      },
      "source": [
        "#📊 Carga e análise"
      ]
    },
    {
      "cell_type": "code",
      "execution_count": null,
      "metadata": {
        "id": "1jgUnLqTmPdd"
      },
      "outputs": [],
      "source": []
    },
    {
      "cell_type": "markdown",
      "metadata": {
        "id": "v-WzfSvTmaw9"
      },
      "source": [
        "#📄Relatorio Final"
      ]
    },
    {
      "cell_type": "code",
      "execution_count": null,
      "metadata": {
        "id": "XMTac0YJmeK9"
      },
      "outputs": [],
      "source": []
    }
  ],
  "metadata": {
    "colab": {
      "provenance": [],
      "include_colab_link": true
    },
    "kernelspec": {
      "display_name": "Python 3",
      "name": "python3"
    },
    "language_info": {
      "name": "python"
    }
  },
  "nbformat": 4,
  "nbformat_minor": 0
}