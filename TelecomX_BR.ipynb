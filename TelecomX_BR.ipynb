{
  "cells": [
    {
      "cell_type": "markdown",
      "metadata": {
        "id": "view-in-github",
        "colab_type": "text"
      },
      "source": [
        "<a href=\"https://colab.research.google.com/github/tcandreetti/challenge2-data-science/blob/main/TelecomX_BR.ipynb\" target=\"_parent\"><img src=\"https://colab.research.google.com/assets/colab-badge.svg\" alt=\"Open In Colab\"/></a>"
      ]
    },
    {
      "cell_type": "markdown",
      "source": [
        "# Imports"
      ],
      "metadata": {
        "id": "2Mz2oWFyQMIm"
      }
    },
    {
      "cell_type": "code",
      "source": [
        "import pandas as pd"
      ],
      "metadata": {
        "id": "1ZVotKWgQLVD"
      },
      "execution_count": 1,
      "outputs": []
    },
    {
      "cell_type": "markdown",
      "metadata": {
        "id": "4foVEKhrlqcH"
      },
      "source": [
        "#📌 Extracão"
      ]
    },
    {
      "cell_type": "markdown",
      "source": [
        "Importar os dados da API da Telecom X. Esses dados estão disponíveis no formato JSON e contêm informações essenciais sobre os clientes, incluindo dados demográficos, tipo de serviço contratado e status de evasão."
      ],
      "metadata": {
        "id": "lFUujJW7P5je"
      }
    },
    {
      "cell_type": "code",
      "source": [
        "url = \"https://raw.githubusercontent.com/tcandreetti/challenge2-data-science/main/TelecomX_Data.json\""
      ],
      "metadata": {
        "id": "e_EWQMiBQU3V"
      },
      "execution_count": 2,
      "outputs": []
    },
    {
      "cell_type": "code",
      "source": [
        "data = pd.read_json(url)\n",
        "df = pd.DataFrame(data)\n",
        "#df = df.set_index('customerID')"
      ],
      "metadata": {
        "id": "jBWxvgwaRpMu"
      },
      "execution_count": 3,
      "outputs": []
    },
    {
      "cell_type": "code",
      "source": [
        "print(df.head())"
      ],
      "metadata": {
        "colab": {
          "base_uri": "https://localhost:8080/"
        },
        "id": "YrBfoJTbT6ys",
        "outputId": "37c26a62-99e4-43ec-b46f-f3ed4f1795db"
      },
      "execution_count": 4,
      "outputs": [
        {
          "output_type": "stream",
          "name": "stdout",
          "text": [
            "   customerID Churn                                           customer  \\\n",
            "0  0002-ORFBO    No  {'gender': 'Female', 'SeniorCitizen': 0, 'Part...   \n",
            "1  0003-MKNFE    No  {'gender': 'Male', 'SeniorCitizen': 0, 'Partne...   \n",
            "2  0004-TLHLJ   Yes  {'gender': 'Male', 'SeniorCitizen': 0, 'Partne...   \n",
            "3  0011-IGKFF   Yes  {'gender': 'Male', 'SeniorCitizen': 1, 'Partne...   \n",
            "4  0013-EXCHZ   Yes  {'gender': 'Female', 'SeniorCitizen': 1, 'Part...   \n",
            "\n",
            "                                             phone  \\\n",
            "0   {'PhoneService': 'Yes', 'MultipleLines': 'No'}   \n",
            "1  {'PhoneService': 'Yes', 'MultipleLines': 'Yes'}   \n",
            "2   {'PhoneService': 'Yes', 'MultipleLines': 'No'}   \n",
            "3   {'PhoneService': 'Yes', 'MultipleLines': 'No'}   \n",
            "4   {'PhoneService': 'Yes', 'MultipleLines': 'No'}   \n",
            "\n",
            "                                            internet  \\\n",
            "0  {'InternetService': 'DSL', 'OnlineSecurity': '...   \n",
            "1  {'InternetService': 'DSL', 'OnlineSecurity': '...   \n",
            "2  {'InternetService': 'Fiber optic', 'OnlineSecu...   \n",
            "3  {'InternetService': 'Fiber optic', 'OnlineSecu...   \n",
            "4  {'InternetService': 'Fiber optic', 'OnlineSecu...   \n",
            "\n",
            "                                             account  \n",
            "0  {'Contract': 'One year', 'PaperlessBilling': '...  \n",
            "1  {'Contract': 'Month-to-month', 'PaperlessBilli...  \n",
            "2  {'Contract': 'Month-to-month', 'PaperlessBilli...  \n",
            "3  {'Contract': 'Month-to-month', 'PaperlessBilli...  \n",
            "4  {'Contract': 'Month-to-month', 'PaperlessBilli...  \n"
          ]
        }
      ]
    },
    {
      "cell_type": "code",
      "source": [
        "#normalizar os dicionarios dentro de df para que cada elemento seja uma coluna\n",
        "\n",
        "df = pd.json_normalize(df.to_dict(orient='records'))\n",
        "print(df.head())"
      ],
      "metadata": {
        "colab": {
          "base_uri": "https://localhost:8080/"
        },
        "id": "EClwKc6yUL6l",
        "outputId": "ed04e196-7c1c-472e-dd7a-a3b6f29ce7c9"
      },
      "execution_count": 5,
      "outputs": [
        {
          "output_type": "stream",
          "name": "stdout",
          "text": [
            "   customerID Churn customer.gender  customer.SeniorCitizen customer.Partner  \\\n",
            "0  0002-ORFBO    No          Female                       0              Yes   \n",
            "1  0003-MKNFE    No            Male                       0               No   \n",
            "2  0004-TLHLJ   Yes            Male                       0               No   \n",
            "3  0011-IGKFF   Yes            Male                       1              Yes   \n",
            "4  0013-EXCHZ   Yes          Female                       1              Yes   \n",
            "\n",
            "  customer.Dependents  customer.tenure phone.PhoneService phone.MultipleLines  \\\n",
            "0                 Yes                9                Yes                  No   \n",
            "1                  No                9                Yes                 Yes   \n",
            "2                  No                4                Yes                  No   \n",
            "3                  No               13                Yes                  No   \n",
            "4                  No                3                Yes                  No   \n",
            "\n",
            "  internet.InternetService  ... internet.OnlineBackup  \\\n",
            "0                      DSL  ...                   Yes   \n",
            "1                      DSL  ...                    No   \n",
            "2              Fiber optic  ...                    No   \n",
            "3              Fiber optic  ...                   Yes   \n",
            "4              Fiber optic  ...                    No   \n",
            "\n",
            "  internet.DeviceProtection internet.TechSupport internet.StreamingTV  \\\n",
            "0                        No                  Yes                  Yes   \n",
            "1                        No                   No                   No   \n",
            "2                       Yes                   No                   No   \n",
            "3                       Yes                   No                  Yes   \n",
            "4                        No                  Yes                  Yes   \n",
            "\n",
            "  internet.StreamingMovies account.Contract account.PaperlessBilling  \\\n",
            "0                       No         One year                      Yes   \n",
            "1                      Yes   Month-to-month                       No   \n",
            "2                       No   Month-to-month                      Yes   \n",
            "3                      Yes   Month-to-month                      Yes   \n",
            "4                       No   Month-to-month                      Yes   \n",
            "\n",
            "  account.PaymentMethod account.Charges.Monthly  account.Charges.Total  \n",
            "0          Mailed check                    65.6                  593.3  \n",
            "1          Mailed check                    59.9                  542.4  \n",
            "2      Electronic check                    73.9                 280.85  \n",
            "3      Electronic check                    98.0                1237.85  \n",
            "4          Mailed check                    83.9                  267.4  \n",
            "\n",
            "[5 rows x 21 columns]\n"
          ]
        }
      ]
    },
    {
      "cell_type": "markdown",
      "metadata": {
        "id": "1lSZP8zmmGZu"
      },
      "source": [
        "#🔧 Transformação"
      ]
    },
    {
      "cell_type": "markdown",
      "source": [
        "✅ Explorar as colunas do dataset e verificar seus tipos de dados.\n",
        "\n",
        "✅ Consultar o dicionário para entender melhor os significados das variáveis.\n",
        "\n",
        "✅ Identificar as colunas mais relevantes para a análise de evasão."
      ],
      "metadata": {
        "id": "E5EVxv8lQzhU"
      }
    },
    {
      "cell_type": "code",
      "execution_count": 6,
      "metadata": {
        "id": "bsm-WTLjmHvt",
        "colab": {
          "base_uri": "https://localhost:8080/"
        },
        "outputId": "35a99e69-5779-4196-b3fa-1a5623d372ba"
      },
      "outputs": [
        {
          "output_type": "stream",
          "name": "stdout",
          "text": [
            "<class 'pandas.core.frame.DataFrame'>\n",
            "RangeIndex: 7267 entries, 0 to 7266\n",
            "Data columns (total 21 columns):\n",
            " #   Column                     Non-Null Count  Dtype  \n",
            "---  ------                     --------------  -----  \n",
            " 0   customerID                 7267 non-null   object \n",
            " 1   Churn                      7267 non-null   object \n",
            " 2   customer.gender            7267 non-null   object \n",
            " 3   customer.SeniorCitizen     7267 non-null   int64  \n",
            " 4   customer.Partner           7267 non-null   object \n",
            " 5   customer.Dependents        7267 non-null   object \n",
            " 6   customer.tenure            7267 non-null   int64  \n",
            " 7   phone.PhoneService         7267 non-null   object \n",
            " 8   phone.MultipleLines        7267 non-null   object \n",
            " 9   internet.InternetService   7267 non-null   object \n",
            " 10  internet.OnlineSecurity    7267 non-null   object \n",
            " 11  internet.OnlineBackup      7267 non-null   object \n",
            " 12  internet.DeviceProtection  7267 non-null   object \n",
            " 13  internet.TechSupport       7267 non-null   object \n",
            " 14  internet.StreamingTV       7267 non-null   object \n",
            " 15  internet.StreamingMovies   7267 non-null   object \n",
            " 16  account.Contract           7267 non-null   object \n",
            " 17  account.PaperlessBilling   7267 non-null   object \n",
            " 18  account.PaymentMethod      7267 non-null   object \n",
            " 19  account.Charges.Monthly    7267 non-null   float64\n",
            " 20  account.Charges.Total      7267 non-null   object \n",
            "dtypes: float64(1), int64(2), object(18)\n",
            "memory usage: 1.2+ MB\n"
          ]
        }
      ],
      "source": [
        "df.info()"
      ]
    },
    {
      "cell_type": "markdown",
      "source": [
        "Erros de tipos de dados"
      ],
      "metadata": {
        "id": "eh-zWAITYdBh"
      }
    },
    {
      "cell_type": "code",
      "source": [
        "df['Churn'] = df['Churn'].apply(lambda x: 1 if x == 'Yes' else 0)\n",
        "df['customer.Dependents'] = df['customer.Dependents'].apply(lambda x: 1 if x == 'Yes' else 0)\n",
        "df['customer.Partner'] = df['customer.Partner'].apply(lambda x: 1 if x == 'Yes' else 0)\n",
        "df['phone.PhoneService'] = df['phone.PhoneService'].apply(lambda x: 1 if x == 'Yes' else 0)\n",
        "df['internet.OnlineSecurity'] = df['internet.OnlineSecurity'].apply(lambda x: 1 if x == 'Yes' else 0)\n",
        "df['internet.OnlineBackup'] = df['internet.OnlineBackup'].apply(lambda x: 1 if x == 'Yes' else 0)\n",
        "df['internet.DeviceProtection'] = df['internet.DeviceProtection'].apply(lambda x: 1 if x == 'Yes' else 0)\n",
        "df['internet.TechSupport'] = df['internet.TechSupport'].apply(lambda x: 1 if x == 'Yes' else 0)\n",
        "df['internet.StreamingTV'] = df['internet.StreamingTV'].apply(lambda x: 1 if x == 'Yes' else 0)\n",
        "df['internet.StreamingMovies'] = df['internet.StreamingMovies'].apply(lambda x: 1 if x == 'Yes' else 0)\n",
        "df['account.PaperlessBilling'] = df['account.PaperlessBilling'].apply(lambda x: 1 if x == 'Yes' else 0)\n",
        "df['phone.MultipleLines'] = df['phone.MultipleLines'].apply(lambda x: 1 if x == 'Yes' else 0)\n",
        "df['account.Charges.Monthly'] = df['account.Charges.Monthly'].astype(float)\n",
        "\n",
        "df['account.Charges.Total'] = pd.to_numeric(df['account.Charges.Total'], errors='coerce')\n",
        "\n",
        "df['account.Charges.Total'] = df['account.Charges.Total'].astype(float)"
      ],
      "metadata": {
        "id": "hcfqL4NuVmDr"
      },
      "execution_count": 7,
      "outputs": []
    },
    {
      "cell_type": "markdown",
      "source": [
        "Valores ausentes, duplicados, erros de formatação e inconsistências nas categorias."
      ],
      "metadata": {
        "id": "8uKJauGmYf9D"
      }
    },
    {
      "cell_type": "code",
      "source": [
        "# Verificar valores ausentes\n",
        "print(\"Valores ausentes por coluna:\")\n",
        "print(df.isnull().sum())\n",
        "df =df.dropna()\n",
        "\n",
        "# Verificar linhas duplicadas\n",
        "print(\"\\nNúmero de linhas duplicadas:\", df.duplicated().sum())\n",
        "\n",
        "#Verificar categorias\n",
        "print(\"\\n\",df['account.Contract'].unique())\n",
        "print(\"\\n\",df['account.PaymentMethod'].unique())\n",
        "print(\"\\n\",df['internet.InternetService'].unique())\n",
        "print(\"\\n\",df['account.Contract'].unique())"
      ],
      "metadata": {
        "id": "8qtIGydtY6GH",
        "outputId": "854d839c-c850-4a9d-911c-cf5fddbf064b",
        "colab": {
          "base_uri": "https://localhost:8080/"
        }
      },
      "execution_count": 8,
      "outputs": [
        {
          "output_type": "stream",
          "name": "stdout",
          "text": [
            "Valores ausentes por coluna:\n",
            "customerID                    0\n",
            "Churn                         0\n",
            "customer.gender               0\n",
            "customer.SeniorCitizen        0\n",
            "customer.Partner              0\n",
            "customer.Dependents           0\n",
            "customer.tenure               0\n",
            "phone.PhoneService            0\n",
            "phone.MultipleLines           0\n",
            "internet.InternetService      0\n",
            "internet.OnlineSecurity       0\n",
            "internet.OnlineBackup         0\n",
            "internet.DeviceProtection     0\n",
            "internet.TechSupport          0\n",
            "internet.StreamingTV          0\n",
            "internet.StreamingMovies      0\n",
            "account.Contract              0\n",
            "account.PaperlessBilling      0\n",
            "account.PaymentMethod         0\n",
            "account.Charges.Monthly       0\n",
            "account.Charges.Total        11\n",
            "dtype: int64\n",
            "\n",
            "Número de linhas duplicadas: 0\n",
            "\n",
            " ['One year' 'Month-to-month' 'Two year']\n",
            "\n",
            " ['Mailed check' 'Electronic check' 'Credit card (automatic)'\n",
            " 'Bank transfer (automatic)']\n",
            "\n",
            " ['DSL' 'Fiber optic' 'No']\n",
            "\n",
            " ['One year' 'Month-to-month' 'Two year']\n"
          ]
        }
      ]
    },
    {
      "cell_type": "code",
      "source": [
        "df_com_churn = df[df['Churn'] == 1]\n",
        "df_sem_churn = df[df['Churn'] == 0]"
      ],
      "metadata": {
        "id": "O0X301YDYPfz"
      },
      "execution_count": 9,
      "outputs": []
    },
    {
      "cell_type": "markdown",
      "source": [],
      "metadata": {
        "id": "EsJOzGDMYat6"
      }
    },
    {
      "cell_type": "markdown",
      "metadata": {
        "id": "6XnTC2NTmMRL"
      },
      "source": [
        "#📊 Carga e análise"
      ]
    },
    {
      "cell_type": "code",
      "execution_count": 10,
      "metadata": {
        "id": "1jgUnLqTmPdd",
        "colab": {
          "base_uri": "https://localhost:8080/",
          "height": 308
        },
        "outputId": "8b031111-7264-4fe1-a15f-74f6c4e617e6"
      },
      "outputs": [
        {
          "output_type": "display_data",
          "data": {
            "text/plain": [
              "    customerID  Churn customer.gender  customer.SeniorCitizen  \\\n",
              "2   0004-TLHLJ      1            Male                       0   \n",
              "3   0011-IGKFF      1            Male                       1   \n",
              "4   0013-EXCHZ      1          Female                       1   \n",
              "18  0022-TCJCI      1            Male                       1   \n",
              "19  0023-HGHWL      1            Male                       1   \n",
              "\n",
              "    customer.Partner  customer.Dependents  customer.tenure  \\\n",
              "2                  0                    0                4   \n",
              "3                  1                    0               13   \n",
              "4                  1                    0                3   \n",
              "18                 0                    0               45   \n",
              "19                 0                    0                1   \n",
              "\n",
              "    phone.PhoneService  phone.MultipleLines internet.InternetService  ...  \\\n",
              "2                    1                    0              Fiber optic  ...   \n",
              "3                    1                    0              Fiber optic  ...   \n",
              "4                    1                    0              Fiber optic  ...   \n",
              "18                   1                    0                      DSL  ...   \n",
              "19                   0                    0                      DSL  ...   \n",
              "\n",
              "    internet.OnlineBackup  internet.DeviceProtection  internet.TechSupport  \\\n",
              "2                       0                          1                     0   \n",
              "3                       1                          1                     0   \n",
              "4                       0                          0                     1   \n",
              "18                      0                          1                     0   \n",
              "19                      0                          0                     0   \n",
              "\n",
              "    internet.StreamingTV  internet.StreamingMovies  account.Contract  \\\n",
              "2                      0                         0    Month-to-month   \n",
              "3                      1                         1    Month-to-month   \n",
              "4                      1                         0    Month-to-month   \n",
              "18                     0                         1          One year   \n",
              "19                     0                         0    Month-to-month   \n",
              "\n",
              "   account.PaperlessBilling    account.PaymentMethod account.Charges.Monthly  \\\n",
              "2                         1         Electronic check                    73.9   \n",
              "3                         1         Electronic check                    98.0   \n",
              "4                         1             Mailed check                    83.9   \n",
              "18                        0  Credit card (automatic)                    62.7   \n",
              "19                        1         Electronic check                    25.1   \n",
              "\n",
              "    account.Charges.Total  \n",
              "2                  280.85  \n",
              "3                 1237.85  \n",
              "4                  267.40  \n",
              "18                2791.50  \n",
              "19                  25.10  \n",
              "\n",
              "[5 rows x 21 columns]"
            ],
            "text/html": [
              "\n",
              "  <div id=\"df-eacdbe22-335a-4d65-896b-edc1d357b58a\" class=\"colab-df-container\">\n",
              "    <div>\n",
              "<style scoped>\n",
              "    .dataframe tbody tr th:only-of-type {\n",
              "        vertical-align: middle;\n",
              "    }\n",
              "\n",
              "    .dataframe tbody tr th {\n",
              "        vertical-align: top;\n",
              "    }\n",
              "\n",
              "    .dataframe thead th {\n",
              "        text-align: right;\n",
              "    }\n",
              "</style>\n",
              "<table border=\"1\" class=\"dataframe\">\n",
              "  <thead>\n",
              "    <tr style=\"text-align: right;\">\n",
              "      <th></th>\n",
              "      <th>customerID</th>\n",
              "      <th>Churn</th>\n",
              "      <th>customer.gender</th>\n",
              "      <th>customer.SeniorCitizen</th>\n",
              "      <th>customer.Partner</th>\n",
              "      <th>customer.Dependents</th>\n",
              "      <th>customer.tenure</th>\n",
              "      <th>phone.PhoneService</th>\n",
              "      <th>phone.MultipleLines</th>\n",
              "      <th>internet.InternetService</th>\n",
              "      <th>...</th>\n",
              "      <th>internet.OnlineBackup</th>\n",
              "      <th>internet.DeviceProtection</th>\n",
              "      <th>internet.TechSupport</th>\n",
              "      <th>internet.StreamingTV</th>\n",
              "      <th>internet.StreamingMovies</th>\n",
              "      <th>account.Contract</th>\n",
              "      <th>account.PaperlessBilling</th>\n",
              "      <th>account.PaymentMethod</th>\n",
              "      <th>account.Charges.Monthly</th>\n",
              "      <th>account.Charges.Total</th>\n",
              "    </tr>\n",
              "  </thead>\n",
              "  <tbody>\n",
              "    <tr>\n",
              "      <th>2</th>\n",
              "      <td>0004-TLHLJ</td>\n",
              "      <td>1</td>\n",
              "      <td>Male</td>\n",
              "      <td>0</td>\n",
              "      <td>0</td>\n",
              "      <td>0</td>\n",
              "      <td>4</td>\n",
              "      <td>1</td>\n",
              "      <td>0</td>\n",
              "      <td>Fiber optic</td>\n",
              "      <td>...</td>\n",
              "      <td>0</td>\n",
              "      <td>1</td>\n",
              "      <td>0</td>\n",
              "      <td>0</td>\n",
              "      <td>0</td>\n",
              "      <td>Month-to-month</td>\n",
              "      <td>1</td>\n",
              "      <td>Electronic check</td>\n",
              "      <td>73.9</td>\n",
              "      <td>280.85</td>\n",
              "    </tr>\n",
              "    <tr>\n",
              "      <th>3</th>\n",
              "      <td>0011-IGKFF</td>\n",
              "      <td>1</td>\n",
              "      <td>Male</td>\n",
              "      <td>1</td>\n",
              "      <td>1</td>\n",
              "      <td>0</td>\n",
              "      <td>13</td>\n",
              "      <td>1</td>\n",
              "      <td>0</td>\n",
              "      <td>Fiber optic</td>\n",
              "      <td>...</td>\n",
              "      <td>1</td>\n",
              "      <td>1</td>\n",
              "      <td>0</td>\n",
              "      <td>1</td>\n",
              "      <td>1</td>\n",
              "      <td>Month-to-month</td>\n",
              "      <td>1</td>\n",
              "      <td>Electronic check</td>\n",
              "      <td>98.0</td>\n",
              "      <td>1237.85</td>\n",
              "    </tr>\n",
              "    <tr>\n",
              "      <th>4</th>\n",
              "      <td>0013-EXCHZ</td>\n",
              "      <td>1</td>\n",
              "      <td>Female</td>\n",
              "      <td>1</td>\n",
              "      <td>1</td>\n",
              "      <td>0</td>\n",
              "      <td>3</td>\n",
              "      <td>1</td>\n",
              "      <td>0</td>\n",
              "      <td>Fiber optic</td>\n",
              "      <td>...</td>\n",
              "      <td>0</td>\n",
              "      <td>0</td>\n",
              "      <td>1</td>\n",
              "      <td>1</td>\n",
              "      <td>0</td>\n",
              "      <td>Month-to-month</td>\n",
              "      <td>1</td>\n",
              "      <td>Mailed check</td>\n",
              "      <td>83.9</td>\n",
              "      <td>267.40</td>\n",
              "    </tr>\n",
              "    <tr>\n",
              "      <th>18</th>\n",
              "      <td>0022-TCJCI</td>\n",
              "      <td>1</td>\n",
              "      <td>Male</td>\n",
              "      <td>1</td>\n",
              "      <td>0</td>\n",
              "      <td>0</td>\n",
              "      <td>45</td>\n",
              "      <td>1</td>\n",
              "      <td>0</td>\n",
              "      <td>DSL</td>\n",
              "      <td>...</td>\n",
              "      <td>0</td>\n",
              "      <td>1</td>\n",
              "      <td>0</td>\n",
              "      <td>0</td>\n",
              "      <td>1</td>\n",
              "      <td>One year</td>\n",
              "      <td>0</td>\n",
              "      <td>Credit card (automatic)</td>\n",
              "      <td>62.7</td>\n",
              "      <td>2791.50</td>\n",
              "    </tr>\n",
              "    <tr>\n",
              "      <th>19</th>\n",
              "      <td>0023-HGHWL</td>\n",
              "      <td>1</td>\n",
              "      <td>Male</td>\n",
              "      <td>1</td>\n",
              "      <td>0</td>\n",
              "      <td>0</td>\n",
              "      <td>1</td>\n",
              "      <td>0</td>\n",
              "      <td>0</td>\n",
              "      <td>DSL</td>\n",
              "      <td>...</td>\n",
              "      <td>0</td>\n",
              "      <td>0</td>\n",
              "      <td>0</td>\n",
              "      <td>0</td>\n",
              "      <td>0</td>\n",
              "      <td>Month-to-month</td>\n",
              "      <td>1</td>\n",
              "      <td>Electronic check</td>\n",
              "      <td>25.1</td>\n",
              "      <td>25.10</td>\n",
              "    </tr>\n",
              "  </tbody>\n",
              "</table>\n",
              "<p>5 rows × 21 columns</p>\n",
              "</div>\n",
              "    <div class=\"colab-df-buttons\">\n",
              "\n",
              "  <div class=\"colab-df-container\">\n",
              "    <button class=\"colab-df-convert\" onclick=\"convertToInteractive('df-eacdbe22-335a-4d65-896b-edc1d357b58a')\"\n",
              "            title=\"Convert this dataframe to an interactive table.\"\n",
              "            style=\"display:none;\">\n",
              "\n",
              "  <svg xmlns=\"http://www.w3.org/2000/svg\" height=\"24px\" viewBox=\"0 -960 960 960\">\n",
              "    <path d=\"M120-120v-720h720v720H120Zm60-500h600v-160H180v160Zm220 220h160v-160H400v160Zm0 220h160v-160H400v160ZM180-400h160v-160H180v160Zm440 0h160v-160H620v160ZM180-180h160v-160H180v160Zm440 0h160v-160H620v160Z\"/>\n",
              "  </svg>\n",
              "    </button>\n",
              "\n",
              "  <style>\n",
              "    .colab-df-container {\n",
              "      display:flex;\n",
              "      gap: 12px;\n",
              "    }\n",
              "\n",
              "    .colab-df-convert {\n",
              "      background-color: #E8F0FE;\n",
              "      border: none;\n",
              "      border-radius: 50%;\n",
              "      cursor: pointer;\n",
              "      display: none;\n",
              "      fill: #1967D2;\n",
              "      height: 32px;\n",
              "      padding: 0 0 0 0;\n",
              "      width: 32px;\n",
              "    }\n",
              "\n",
              "    .colab-df-convert:hover {\n",
              "      background-color: #E2EBFA;\n",
              "      box-shadow: 0px 1px 2px rgba(60, 64, 67, 0.3), 0px 1px 3px 1px rgba(60, 64, 67, 0.15);\n",
              "      fill: #174EA6;\n",
              "    }\n",
              "\n",
              "    .colab-df-buttons div {\n",
              "      margin-bottom: 4px;\n",
              "    }\n",
              "\n",
              "    [theme=dark] .colab-df-convert {\n",
              "      background-color: #3B4455;\n",
              "      fill: #D2E3FC;\n",
              "    }\n",
              "\n",
              "    [theme=dark] .colab-df-convert:hover {\n",
              "      background-color: #434B5C;\n",
              "      box-shadow: 0px 1px 3px 1px rgba(0, 0, 0, 0.15);\n",
              "      filter: drop-shadow(0px 1px 2px rgba(0, 0, 0, 0.3));\n",
              "      fill: #FFFFFF;\n",
              "    }\n",
              "  </style>\n",
              "\n",
              "    <script>\n",
              "      const buttonEl =\n",
              "        document.querySelector('#df-eacdbe22-335a-4d65-896b-edc1d357b58a button.colab-df-convert');\n",
              "      buttonEl.style.display =\n",
              "        google.colab.kernel.accessAllowed ? 'block' : 'none';\n",
              "\n",
              "      async function convertToInteractive(key) {\n",
              "        const element = document.querySelector('#df-eacdbe22-335a-4d65-896b-edc1d357b58a');\n",
              "        const dataTable =\n",
              "          await google.colab.kernel.invokeFunction('convertToInteractive',\n",
              "                                                    [key], {});\n",
              "        if (!dataTable) return;\n",
              "\n",
              "        const docLinkHtml = 'Like what you see? Visit the ' +\n",
              "          '<a target=\"_blank\" href=https://colab.research.google.com/notebooks/data_table.ipynb>data table notebook</a>'\n",
              "          + ' to learn more about interactive tables.';\n",
              "        element.innerHTML = '';\n",
              "        dataTable['output_type'] = 'display_data';\n",
              "        await google.colab.output.renderOutput(dataTable, element);\n",
              "        const docLink = document.createElement('div');\n",
              "        docLink.innerHTML = docLinkHtml;\n",
              "        element.appendChild(docLink);\n",
              "      }\n",
              "    </script>\n",
              "  </div>\n",
              "\n",
              "\n",
              "    <div id=\"df-7dc715d8-271f-4c4c-8634-9d233d5711da\">\n",
              "      <button class=\"colab-df-quickchart\" onclick=\"quickchart('df-7dc715d8-271f-4c4c-8634-9d233d5711da')\"\n",
              "                title=\"Suggest charts\"\n",
              "                style=\"display:none;\">\n",
              "\n",
              "<svg xmlns=\"http://www.w3.org/2000/svg\" height=\"24px\"viewBox=\"0 0 24 24\"\n",
              "     width=\"24px\">\n",
              "    <g>\n",
              "        <path d=\"M19 3H5c-1.1 0-2 .9-2 2v14c0 1.1.9 2 2 2h14c1.1 0 2-.9 2-2V5c0-1.1-.9-2-2-2zM9 17H7v-7h2v7zm4 0h-2V7h2v10zm4 0h-2v-4h2v4z\"/>\n",
              "    </g>\n",
              "</svg>\n",
              "      </button>\n",
              "\n",
              "<style>\n",
              "  .colab-df-quickchart {\n",
              "      --bg-color: #E8F0FE;\n",
              "      --fill-color: #1967D2;\n",
              "      --hover-bg-color: #E2EBFA;\n",
              "      --hover-fill-color: #174EA6;\n",
              "      --disabled-fill-color: #AAA;\n",
              "      --disabled-bg-color: #DDD;\n",
              "  }\n",
              "\n",
              "  [theme=dark] .colab-df-quickchart {\n",
              "      --bg-color: #3B4455;\n",
              "      --fill-color: #D2E3FC;\n",
              "      --hover-bg-color: #434B5C;\n",
              "      --hover-fill-color: #FFFFFF;\n",
              "      --disabled-bg-color: #3B4455;\n",
              "      --disabled-fill-color: #666;\n",
              "  }\n",
              "\n",
              "  .colab-df-quickchart {\n",
              "    background-color: var(--bg-color);\n",
              "    border: none;\n",
              "    border-radius: 50%;\n",
              "    cursor: pointer;\n",
              "    display: none;\n",
              "    fill: var(--fill-color);\n",
              "    height: 32px;\n",
              "    padding: 0;\n",
              "    width: 32px;\n",
              "  }\n",
              "\n",
              "  .colab-df-quickchart:hover {\n",
              "    background-color: var(--hover-bg-color);\n",
              "    box-shadow: 0 1px 2px rgba(60, 64, 67, 0.3), 0 1px 3px 1px rgba(60, 64, 67, 0.15);\n",
              "    fill: var(--button-hover-fill-color);\n",
              "  }\n",
              "\n",
              "  .colab-df-quickchart-complete:disabled,\n",
              "  .colab-df-quickchart-complete:disabled:hover {\n",
              "    background-color: var(--disabled-bg-color);\n",
              "    fill: var(--disabled-fill-color);\n",
              "    box-shadow: none;\n",
              "  }\n",
              "\n",
              "  .colab-df-spinner {\n",
              "    border: 2px solid var(--fill-color);\n",
              "    border-color: transparent;\n",
              "    border-bottom-color: var(--fill-color);\n",
              "    animation:\n",
              "      spin 1s steps(1) infinite;\n",
              "  }\n",
              "\n",
              "  @keyframes spin {\n",
              "    0% {\n",
              "      border-color: transparent;\n",
              "      border-bottom-color: var(--fill-color);\n",
              "      border-left-color: var(--fill-color);\n",
              "    }\n",
              "    20% {\n",
              "      border-color: transparent;\n",
              "      border-left-color: var(--fill-color);\n",
              "      border-top-color: var(--fill-color);\n",
              "    }\n",
              "    30% {\n",
              "      border-color: transparent;\n",
              "      border-left-color: var(--fill-color);\n",
              "      border-top-color: var(--fill-color);\n",
              "      border-right-color: var(--fill-color);\n",
              "    }\n",
              "    40% {\n",
              "      border-color: transparent;\n",
              "      border-right-color: var(--fill-color);\n",
              "      border-top-color: var(--fill-color);\n",
              "    }\n",
              "    60% {\n",
              "      border-color: transparent;\n",
              "      border-right-color: var(--fill-color);\n",
              "    }\n",
              "    80% {\n",
              "      border-color: transparent;\n",
              "      border-right-color: var(--fill-color);\n",
              "      border-bottom-color: var(--fill-color);\n",
              "    }\n",
              "    90% {\n",
              "      border-color: transparent;\n",
              "      border-bottom-color: var(--fill-color);\n",
              "    }\n",
              "  }\n",
              "</style>\n",
              "\n",
              "      <script>\n",
              "        async function quickchart(key) {\n",
              "          const quickchartButtonEl =\n",
              "            document.querySelector('#' + key + ' button');\n",
              "          quickchartButtonEl.disabled = true;  // To prevent multiple clicks.\n",
              "          quickchartButtonEl.classList.add('colab-df-spinner');\n",
              "          try {\n",
              "            const charts = await google.colab.kernel.invokeFunction(\n",
              "                'suggestCharts', [key], {});\n",
              "          } catch (error) {\n",
              "            console.error('Error during call to suggestCharts:', error);\n",
              "          }\n",
              "          quickchartButtonEl.classList.remove('colab-df-spinner');\n",
              "          quickchartButtonEl.classList.add('colab-df-quickchart-complete');\n",
              "        }\n",
              "        (() => {\n",
              "          let quickchartButtonEl =\n",
              "            document.querySelector('#df-7dc715d8-271f-4c4c-8634-9d233d5711da button');\n",
              "          quickchartButtonEl.style.display =\n",
              "            google.colab.kernel.accessAllowed ? 'block' : 'none';\n",
              "        })();\n",
              "      </script>\n",
              "    </div>\n",
              "\n",
              "    </div>\n",
              "  </div>\n"
            ],
            "application/vnd.google.colaboratory.intrinsic+json": {
              "type": "dataframe"
            }
          },
          "metadata": {}
        }
      ],
      "source": [
        "'''No churn, definir as estatísticas:\n",
        "a) qual é o gênero que mais dá churn?\n",
        "b) são seniorCitizen?\n",
        "c) quantos dependentes costumam ter?\n",
        "d) qual é o tempo de contrato?\n",
        "e) possuem assinatura de serviço telefônico?\n",
        "f) tem mais de uma linha?\n",
        "g) Qual é o tipo de serviço de internet contratado?\n",
        "h) adquirem serviços de segurança online?\n",
        "i) adquirem serviços de backup online?\n",
        "j) adquirem serviços de proteção de dispositivo?\n",
        "k) adquirem serviços de suporte técnico online?\n",
        "l) adquirem serviços de streaming de TV?\n",
        "m) adquirem serviços de streaming de filmes?\n",
        "n) qual é o contrato assinado?\n",
        "o) aderiram a conta sem papel?\n",
        "p) qual é o método de pagamento?\n",
        "q) qual é a cobrança mensal?\n",
        "r) qual é o total de cobrança?'''\n",
        "display(df_com_churn.head(5))"
      ]
    },
    {
      "cell_type": "code",
      "source": [
        "df_sem_churn.groupby('customer.gender').size()"
      ],
      "metadata": {
        "id": "OuPqYsZQa9eC",
        "outputId": "37953491-f536-4f20-d8a8-f4283f89ee80",
        "colab": {
          "base_uri": "https://localhost:8080/",
          "height": 178
        }
      },
      "execution_count": 19,
      "outputs": [
        {
          "output_type": "execute_result",
          "data": {
            "text/plain": [
              "customer.gender\n",
              "Female    2648\n",
              "Male      2739\n",
              "dtype: int64"
            ],
            "text/html": [
              "<div>\n",
              "<style scoped>\n",
              "    .dataframe tbody tr th:only-of-type {\n",
              "        vertical-align: middle;\n",
              "    }\n",
              "\n",
              "    .dataframe tbody tr th {\n",
              "        vertical-align: top;\n",
              "    }\n",
              "\n",
              "    .dataframe thead th {\n",
              "        text-align: right;\n",
              "    }\n",
              "</style>\n",
              "<table border=\"1\" class=\"dataframe\">\n",
              "  <thead>\n",
              "    <tr style=\"text-align: right;\">\n",
              "      <th></th>\n",
              "      <th>0</th>\n",
              "    </tr>\n",
              "    <tr>\n",
              "      <th>customer.gender</th>\n",
              "      <th></th>\n",
              "    </tr>\n",
              "  </thead>\n",
              "  <tbody>\n",
              "    <tr>\n",
              "      <th>Female</th>\n",
              "      <td>2648</td>\n",
              "    </tr>\n",
              "    <tr>\n",
              "      <th>Male</th>\n",
              "      <td>2739</td>\n",
              "    </tr>\n",
              "  </tbody>\n",
              "</table>\n",
              "</div><br><label><b>dtype:</b> int64</label>"
            ]
          },
          "metadata": {},
          "execution_count": 19
        }
      ]
    },
    {
      "cell_type": "code",
      "source": [
        "#contar a representatividade de cada variável em relação ao total\n",
        "tipo_contrato = df_com_churn.groupby('account.Contract').size()\n",
        "metodo_pagamento = df_com_churn.groupby('account.PaymentMethod').size()\n",
        "tipo_servico_internet = df_com_churn.groupby('internet.InternetService').size()"
      ],
      "metadata": {
        "id": "W3_mPFksuAiJ"
      },
      "execution_count": 15,
      "outputs": []
    },
    {
      "cell_type": "code",
      "source": [
        "def analise_categorias(df):\n",
        "  colunas= [\n",
        "      'customer.SeniorCitizen',\n",
        "      'customer.Partner',\n",
        "      'customer.Dependents',\n",
        "      'phone.PhoneService',\n",
        "      'phone.MultipleLines',\n",
        "      'internet.OnlineSecurity',\n",
        "      'internet.OnlineBackup',\n",
        "      'internet.DeviceProtection',\n",
        "      'internet.TechSupport',\n",
        "      'internet.StreamingTV',\n",
        "      'internet.StreamingMovies',\n",
        "      'account.PaperlessBilling'\n",
        "  ]\n",
        "  colunas_numericas = [\n",
        "      'account.Charges.Monthly',\n",
        "      'account.Charges.Total'\n",
        "  ]\n",
        "\n",
        "  colunas_categoricas = [\n",
        "      'account.Contract',\n",
        "      'account.PaymentMethod',\n",
        "      'internet.InternetService'\n",
        "  ]\n",
        "  def calculate_percentage(df, column):\n",
        "    counts = df.groupby(column).size()\n",
        "    percentages = counts / counts.sum() * 100\n",
        "    return pd.DataFrame({'Count': counts, 'Percentage': percentages.round(2)})\n",
        "\n",
        "  # Calculate percentage for each grouped variable\n",
        "  df_tipo_contrato = calculate_percentage(df, 'account.Contract')\n",
        "  df_metodo_pagamento = calculate_percentage(df, 'account.PaymentMethod')\n",
        "  df_tipo_servico_internet = calculate_percentage(df, 'internet.InternetService')\n",
        "\n",
        "  #contar a representatividade de cada variável em relação ao total\n",
        "  tipo_contrato = df.groupby('account.Contract').size()\n",
        "  metodo_pagamento = df.groupby('account.PaymentMethod').size()\n",
        "  tipo_servico_internet = df.groupby('internet.InternetService').size()\n",
        "\n",
        "\n",
        "\n",
        "  # Calcular o total por coluna\n",
        "  somatorio = df[colunas].sum()\n",
        "  contagem = df[colunas].count()\n",
        "  media = df[colunas_numericas].mean()\n",
        "  mediana = df[colunas_numericas].median()\n",
        "  moda = df[colunas_numericas].mode().iloc[0]\n",
        "\n",
        "  #calcular o percentual de cada coluna\n",
        "  representatividade = somatorio.div(contagem)\n",
        "\n",
        "  # You can also multiply by 100 to get percentages\n",
        "  pct = representatividade * 100\n",
        "\n",
        "  #Dataframe com os dados calculados sobre churn em relação as variáveis inteiras/categóricas\n",
        "  sumario_churn = pd.DataFrame({\n",
        "      'Soma': somatorio,\n",
        "      'Percentage (%)': round(pct, 2)\n",
        "  })\n",
        "\n",
        "  sumario_churn_numerico = pd.DataFrame({\n",
        "      'Média': media,\n",
        "      'Mediana': mediana,\n",
        "      'Moda': moda\n",
        "  })\n",
        "\n",
        "\n",
        "\n",
        "  print(sumario_churn)\n",
        "  print(\"\\n\",sumario_churn_numerico)\n",
        "\n",
        "  print(\"\\n\",df_tipo_contrato)\n",
        "  print(\"\\n\",df_metodo_pagamento)\n",
        "  print(\"\\n\",df_tipo_servico_internet)\n",
        "  #return sumario_churn\n",
        "\n",
        "analise_categorias(df_com_churn)\n"
      ],
      "metadata": {
        "id": "_IRr5lOmbHn3",
        "outputId": "abaf7ea5-fdaf-48e3-a695-cefab130f0be",
        "colab": {
          "base_uri": "https://localhost:8080/"
        }
      },
      "execution_count": 17,
      "outputs": [
        {
          "output_type": "stream",
          "name": "stdout",
          "text": [
            "                           Soma  Percentage (%)\n",
            "customer.SeniorCitizen      476           25.47\n",
            "customer.Partner            669           35.79\n",
            "customer.Dependents         326           17.44\n",
            "phone.PhoneService         1699           90.90\n",
            "phone.MultipleLines         850           45.48\n",
            "internet.OnlineSecurity     295           15.78\n",
            "internet.OnlineBackup       523           27.98\n",
            "internet.DeviceProtection   545           29.16\n",
            "internet.TechSupport        310           16.59\n",
            "internet.StreamingTV        814           43.55\n",
            "internet.StreamingMovies    818           43.77\n",
            "account.PaperlessBilling   1400           74.91\n",
            "\n",
            "                                Média  Mediana  Moda\n",
            "account.Charges.Monthly    74.441332    79.65  74.4\n",
            "account.Charges.Total    1531.796094   703.55  20.2\n",
            "\n",
            "                   Count  Percentage\n",
            "account.Contract                   \n",
            "Month-to-month     1655       88.55\n",
            "One year            166        8.88\n",
            "Two year             48        2.57\n",
            "\n",
            "                            Count  Percentage\n",
            "account.PaymentMethod                       \n",
            "Bank transfer (automatic)    258       13.80\n",
            "Credit card (automatic)      232       12.41\n",
            "Electronic check            1071       57.30\n",
            "Mailed check                 308       16.48\n",
            "\n",
            "                           Count  Percentage\n",
            "internet.InternetService                   \n",
            "DSL                         459       24.56\n",
            "Fiber optic                1297       69.40\n",
            "No                          113        6.05\n"
          ]
        }
      ]
    },
    {
      "cell_type": "markdown",
      "source": [
        "Churn:\n",
        "- poucos idosos\n",
        "- sem dependentes\n",
        "- já possuem um serviço de telefone\n",
        "- podem ou não ter múltiplas linhas\n",
        "- Geralmente tem serviço de streaming\n",
        "- aderem a conta digital\n",
        "- pagam em média 74 dólares\n",
        "- total gasto pelo cliente 1531 dólares\n",
        "- contrato mensal\n",
        "- cheque eletrônico\n",
        "- fibra óptica\n",
        "\n",
        "Sem Churn:\n",
        "- poucos idosos\n",
        "- com parceiro/parceira\n",
        "- já possuem um serviço de telefone\n",
        "- podem ou não ter múltiplas linhas\n",
        "- Geralmente NÃO tem serviço de streaming\n",
        "- aderem a conta digital com menor frequência\n",
        "- pagam em média 61 dólares\n",
        "- total gasto pelo cliente 2540 dólares\n",
        "- contratos variados\n",
        "- pagamentos variados\n",
        "- diversos tipos de internet\n",
        "\n",
        "Público Churn> pessoas sem parceiro - com conta mensal sem fidelização, aderentes a outros serviços de streaming\n"
      ],
      "metadata": {
        "id": "U9QgeA36rSDe"
      }
    },
    {
      "cell_type": "code",
      "source": [
        "analise_categorias(df_sem_churn)"
      ],
      "metadata": {
        "id": "TRWcqH5td68B",
        "outputId": "f97e548c-253e-42e3-908b-f1172c92f35c",
        "colab": {
          "base_uri": "https://localhost:8080/"
        }
      },
      "execution_count": 18,
      "outputs": [
        {
          "output_type": "stream",
          "name": "stdout",
          "text": [
            "                           Soma  Percentage (%)\n",
            "customer.SeniorCitizen      706           13.11\n",
            "customer.Partner           2840           52.72\n",
            "customer.Dependents        1844           34.23\n",
            "phone.PhoneService         4852           90.07\n",
            "phone.MultipleLines        2211           41.04\n",
            "internet.OnlineSecurity    1779           33.02\n",
            "internet.OnlineBackup      1977           36.70\n",
            "internet.DeviceProtection  1942           36.05\n",
            "internet.TechSupport       1790           33.23\n",
            "internet.StreamingTV       1972           36.61\n",
            "internet.StreamingMovies   1997           37.07\n",
            "account.PaperlessBilling   2908           53.98\n",
            "\n",
            "                                Média  Mediana   Moda\n",
            "account.Charges.Monthly    61.394932    64.55  20.05\n",
            "account.Charges.Total    2540.440867  1669.40  19.55\n",
            "\n",
            "                   Count  Percentage\n",
            "account.Contract                   \n",
            "Month-to-month     2350       43.62\n",
            "One year           1352       25.10\n",
            "Two year           1685       31.28\n",
            "\n",
            "                            Count  Percentage\n",
            "account.PaymentMethod                       \n",
            "Bank transfer (automatic)   1329       24.67\n",
            "Credit card (automatic)     1335       24.78\n",
            "Electronic check            1374       25.51\n",
            "Mailed check                1349       25.04\n",
            "\n",
            "                           Count  Percentage\n",
            "internet.InternetService                   \n",
            "DSL                        2024       37.57\n",
            "Fiber optic                1901       35.29\n",
            "No                         1462       27.14\n"
          ]
        }
      ]
    },
    {
      "cell_type": "markdown",
      "metadata": {
        "id": "v-WzfSvTmaw9"
      },
      "source": [
        "#📄Relatorio Final"
      ]
    },
    {
      "cell_type": "code",
      "execution_count": 13,
      "metadata": {
        "id": "XMTac0YJmeK9"
      },
      "outputs": [],
      "source": []
    }
  ],
  "metadata": {
    "colab": {
      "provenance": [],
      "include_colab_link": true
    },
    "kernelspec": {
      "display_name": "Python 3",
      "name": "python3"
    },
    "language_info": {
      "name": "python"
    }
  },
  "nbformat": 4,
  "nbformat_minor": 0
}